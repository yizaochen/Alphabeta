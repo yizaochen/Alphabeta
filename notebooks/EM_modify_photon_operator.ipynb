{
 "cells": [
  {
   "cell_type": "code",
   "execution_count": 1,
   "metadata": {},
   "outputs": [],
   "source": [
    "using Fretem, Potential, Alphabeta, PyPlot, Printf"
   ]
  },
  {
   "cell_type": "markdown",
   "metadata": {},
   "source": [
    "### Part 1: Get collocation points and integration kernel for whole domain"
   ]
  },
  {
   "cell_type": "code",
   "execution_count": 2,
   "metadata": {},
   "outputs": [],
   "source": [
    "Nh = 64    # The number of Spectral element\n",
    "Np = 4     # The order of polynomial which used to interpolate and integration\n",
    "\n",
    "# Define Physical Domain\n",
    "xratio = 20 # unit: angstrom\n",
    "xavg = 50   # unit: angstrom\n",
    "\n",
    "x, w, Ldx, L = getLagrange(Np, xratio/Nh)\n",
    "e_norm = x[end] - x[1]\n",
    "interpo_xs = x .+ x[end]\n",
    "\n",
    "N, xref, w0, Ldx, w = get_fem_xref_weights_basis(Nh, Np, xratio, xavg);"
   ]
  },
  {
   "cell_type": "code",
   "execution_count": null,
   "metadata": {},
   "outputs": [],
   "source": []
  }
 ],
 "metadata": {
  "kernelspec": {
   "display_name": "Julia 1.5.2",
   "language": "julia",
   "name": "julia-1.5"
  },
  "language_info": {
   "file_extension": ".jl",
   "mimetype": "application/julia",
   "name": "julia",
   "version": "1.5.2"
  }
 },
 "nbformat": 4,
 "nbformat_minor": 4
}
