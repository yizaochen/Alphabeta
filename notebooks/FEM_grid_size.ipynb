{
 "cells": [
  {
   "cell_type": "code",
   "execution_count": 1,
   "metadata": {},
   "outputs": [],
   "source": [
    "using Fretem, PyPlot, Printf"
   ]
  },
  {
   "cell_type": "markdown",
   "metadata": {},
   "source": [
    "### Additional Part 1: Draw the finite element nodes"
   ]
  },
  {
   "cell_type": "code",
   "execution_count": 2,
   "metadata": {},
   "outputs": [
    {
     "name": "stdout",
     "output_type": "stream",
     "text": [
      "Done"
     ]
    }
   ],
   "source": [
    "# Given a point, find the nearest point in our defined line\n",
    "Nh = 64    # The number of Spectral element\n",
    "Np = 4     # The order of polynomial which used to interpolate and integration\n",
    "N  = Nh*Np - Nh + 1 # Total number of nodes\n",
    "N_gn = Nh + 1 # Number of global element nodes\n",
    "\n",
    "# Define Physical Domain\n",
    "xratio = 20\n",
    "xavg = 50\n",
    "\n",
    "x, w, Ldx, L = getLagrange(Np,xratio/Nh)\n",
    "\n",
    "xref = zeros(N,1)    # grid points of domain\n",
    "x_gn = zeros(N_gn,1) # positions of global nodes\n",
    "\n",
    "for i=0:Nh-1\n",
    "    idx_array = 1+i*(Np-1):i*(Np-1)+Np\n",
    "    idx_gn = i + 1\n",
    "    \n",
    "    # Set x positions \n",
    "    term1 = (2 * xratio/Nh * i) + (xratio/Nh)\n",
    "    xref[idx_array] = x .+ term1\n",
    "    x_gn[idx_gn] = x[1] + term1\n",
    "end\n",
    "\n",
    "x_gn[end] = xref[end]\n",
    "\n",
    "term1 = xavg - xratio\n",
    "xref = xref .+ term1\n",
    "x_gn = x_gn .+ term1\n",
    "print(\"Done\")"
   ]
  },
  {
   "cell_type": "code",
   "execution_count": 7,
   "metadata": {},
   "outputs": [
    {
     "data": {
      "image/png": "[encoded data removed]",
      "text/plain": [
       "Figure(PyObject <Figure size 1600x100 with 1 Axes>)"
      ]
     },
     "metadata": {},
     "output_type": "display_data"
    }
   ],
   "source": [
    "fig, ax = plt.subplots(ncols=1, nrows=1, figsize=(16,1))\n",
    "s = 1.5\n",
    "ax.scatter(xref, zeros(size(xref)), s=s, color=\"blue\")\n",
    "ax.scatter(x_gn, zeros(size(x_gn)), s=s, color=\"red\")\n",
    "ax.set_ylim(-0.0005, 0.0005)\n",
    "ax.set_xlim(29.9, 70.1)\n",
    "ax.set_yticklabels([])\n",
    "plt.tight_layout()\n",
    "#plt.savefig(\"node.svg\")\n",
    "plt.show()"
   ]
  },
  {
   "cell_type": "code",
   "execution_count": 4,
   "metadata": {},
   "outputs": [
    {
     "name": "stdout",
     "output_type": "stream",
     "text": [
      "Grid Size is 0.6250 angstrom. \n"
     ]
    }
   ],
   "source": [
    "gridsize = x_gn[2] - x_gn[1]\n",
    "s = @sprintf \"Grid Size is %1.4f angstrom. \" gridsize\n",
    "println(s)"
   ]
  },
  {
   "cell_type": "code",
   "execution_count": null,
   "metadata": {},
   "outputs": [],
   "source": []
  }
 ],
 "metadata": {
  "kernelspec": {
   "display_name": "Julia 1.4.1",
   "language": "julia",
   "name": "julia-1.4"
  },
  "language_info": {
   "file_extension": ".jl",
   "mimetype": "application/julia",
   "name": "julia",
   "version": "1.4.1"
  }
 },
 "nbformat": 4,
 "nbformat_minor": 4
}
